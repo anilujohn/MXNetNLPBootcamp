{
 "cells": [
  {
   "cell_type": "code",
   "execution_count": 1,
   "metadata": {
    "slideshow": {
     "slide_type": "skip"
    }
   },
   "outputs": [
    {
     "name": "stdout",
     "output_type": "stream",
     "text": [
      "Collecting mxnet-cu90\n",
      "\u001b[?25l  Downloading https://files.pythonhosted.org/packages/f2/83/e64d19e95158c6f4bb4913f4cc5f9fd875fbe76f7c832ea208759a5072a6/mxnet_cu90-1.3.0b20180724-py2.py3-none-manylinux1_x86_64.whl (400.0MB)\n",
      "\u001b[K    100% |████████████████████████████████| 400.0MB 182kB/s eta 0:00:01    37% |████████████                    | 149.8MB 47.1MB/s eta 0:00:06    63% |████████████████████▏           | 252.5MB 48.7MB/s eta 0:00:04    91% |█████████████████████████████▏  | 364.8MB 54.5MB/s eta 0:00:01\n",
      "\u001b[?25hRequirement not upgraded as not directly required: requests<2.19.0,>=2.18.4 in /home/ubuntu/anaconda3/envs/mxnet_p36/lib/python3.6/site-packages (from mxnet-cu90) (2.18.4)\n",
      "Requirement not upgraded as not directly required: graphviz<0.9.0,>=0.8.1 in /home/ubuntu/anaconda3/envs/mxnet_p36/lib/python3.6/site-packages (from mxnet-cu90) (0.8.1)\n",
      "Requirement not upgraded as not directly required: numpy<1.15.0,>=1.8.2 in /home/ubuntu/anaconda3/envs/mxnet_p36/lib/python3.6/site-packages (from mxnet-cu90) (1.13.3)\n",
      "Requirement not upgraded as not directly required: chardet<3.1.0,>=3.0.2 in /home/ubuntu/anaconda3/envs/mxnet_p36/lib/python3.6/site-packages (from requests<2.19.0,>=2.18.4->mxnet-cu90) (3.0.4)\n",
      "Requirement not upgraded as not directly required: idna<2.7,>=2.5 in /home/ubuntu/anaconda3/envs/mxnet_p36/lib/python3.6/site-packages (from requests<2.19.0,>=2.18.4->mxnet-cu90) (2.6)\n",
      "Requirement not upgraded as not directly required: urllib3<1.23,>=1.21.1 in /home/ubuntu/anaconda3/envs/mxnet_p36/lib/python3.6/site-packages (from requests<2.19.0,>=2.18.4->mxnet-cu90) (1.22)\n",
      "Requirement not upgraded as not directly required: certifi>=2017.4.17 in /home/ubuntu/anaconda3/envs/mxnet_p36/lib/python3.6/site-packages (from requests<2.19.0,>=2.18.4->mxnet-cu90) (2018.4.16)\n",
      "\u001b[31mmxnet-model-server 0.3 requires fasteners, which is not installed.\u001b[0m\n",
      "\u001b[31mmxnet-model-server 0.3 requires importlib2, which is not installed.\u001b[0m\n",
      "\u001b[31mmxnet-model-server 0.3 requires mxnet>=1.1, which is not installed.\u001b[0m\n",
      "\u001b[31mmxnet-model-server 0.3 requires onnx-mxnet>=0.4.2, which is not installed.\u001b[0m\n",
      "Installing collected packages: mxnet-cu90\n",
      "  Found existing installation: mxnet-cu90 1.3.0b20180722\n",
      "    Uninstalling mxnet-cu90-1.3.0b20180722:\n",
      "      Successfully uninstalled mxnet-cu90-1.3.0b20180722\n",
      "Successfully installed mxnet-cu90-1.3.0b20180724\n",
      "Requirement already satisfied: gluoncv in /home/ubuntu/anaconda3/envs/mxnet_p36/lib/python3.6/site-packages (0.2.0)\n",
      "Requirement already satisfied: scipy in /home/ubuntu/anaconda3/envs/mxnet_p36/lib/python3.6/site-packages (from gluoncv) (1.1.0)\n",
      "Requirement already satisfied: numpy in /home/ubuntu/anaconda3/envs/mxnet_p36/lib/python3.6/site-packages (from gluoncv) (1.13.3)\n",
      "Requirement already satisfied: tqdm in /home/ubuntu/anaconda3/envs/mxnet_p36/lib/python3.6/site-packages (from gluoncv) (4.23.4)\n",
      "Requirement already satisfied: requests in /home/ubuntu/anaconda3/envs/mxnet_p36/lib/python3.6/site-packages (from gluoncv) (2.18.4)\n",
      "Requirement already satisfied: matplotlib in /home/ubuntu/anaconda3/envs/mxnet_p36/lib/python3.6/site-packages (from gluoncv) (2.2.2)\n",
      "Requirement already satisfied: Pillow in /home/ubuntu/anaconda3/envs/mxnet_p36/lib/python3.6/site-packages (from gluoncv) (5.0.0)\n",
      "Requirement already satisfied: chardet<3.1.0,>=3.0.2 in /home/ubuntu/anaconda3/envs/mxnet_p36/lib/python3.6/site-packages (from requests->gluoncv) (3.0.4)\n",
      "Requirement already satisfied: idna<2.7,>=2.5 in /home/ubuntu/anaconda3/envs/mxnet_p36/lib/python3.6/site-packages (from requests->gluoncv) (2.6)\n",
      "Requirement already satisfied: urllib3<1.23,>=1.21.1 in /home/ubuntu/anaconda3/envs/mxnet_p36/lib/python3.6/site-packages (from requests->gluoncv) (1.22)\n",
      "Requirement already satisfied: certifi>=2017.4.17 in /home/ubuntu/anaconda3/envs/mxnet_p36/lib/python3.6/site-packages (from requests->gluoncv) (2018.4.16)\n",
      "Requirement already satisfied: kiwisolver>=1.0.1 in /home/ubuntu/anaconda3/envs/mxnet_p36/lib/python3.6/site-packages (from matplotlib->gluoncv) (1.0.1)\n",
      "Requirement already satisfied: pytz in /home/ubuntu/anaconda3/envs/mxnet_p36/lib/python3.6/site-packages (from matplotlib->gluoncv) (2018.4)\n",
      "Requirement already satisfied: six>=1.10 in /home/ubuntu/anaconda3/envs/mxnet_p36/lib/python3.6/site-packages (from matplotlib->gluoncv) (1.11.0)\n",
      "Requirement already satisfied: python-dateutil>=2.1 in /home/ubuntu/anaconda3/envs/mxnet_p36/lib/python3.6/site-packages (from matplotlib->gluoncv) (2.7.3)\n",
      "Requirement already satisfied: cycler>=0.10 in /home/ubuntu/anaconda3/envs/mxnet_p36/lib/python3.6/site-packages (from matplotlib->gluoncv) (0.10.0)\n",
      "Requirement already satisfied: pyparsing!=2.0.4,!=2.1.2,!=2.1.6,>=2.0.1 in /home/ubuntu/anaconda3/envs/mxnet_p36/lib/python3.6/site-packages (from matplotlib->gluoncv) (2.2.0)\n",
      "Requirement already satisfied: setuptools in /home/ubuntu/anaconda3/envs/mxnet_p36/lib/python3.6/site-packages (from kiwisolver>=1.0.1->matplotlib->gluoncv) (39.1.0)\n",
      "\u001b[31mmxnet-model-server 0.3 requires fasteners, which is not installed.\u001b[0m\n",
      "\u001b[31mmxnet-model-server 0.3 requires importlib2, which is not installed.\u001b[0m\n",
      "\u001b[31mmxnet-model-server 0.3 requires mxnet>=1.1, which is not installed.\u001b[0m\n",
      "\u001b[31mmxnet-model-server 0.3 requires onnx-mxnet>=0.4.2, which is not installed.\u001b[0m\n",
      "Requirement already satisfied: gluonnlp in /home/ubuntu/anaconda3/envs/mxnet_p36/lib/python3.6/site-packages (0.3.2)\n",
      "Requirement already satisfied: numpy in /home/ubuntu/anaconda3/envs/mxnet_p36/lib/python3.6/site-packages (from gluonnlp) (1.13.3)\n",
      "\u001b[31mmxnet-model-server 0.3 requires fasteners, which is not installed.\u001b[0m\n",
      "\u001b[31mmxnet-model-server 0.3 requires importlib2, which is not installed.\u001b[0m\n",
      "\u001b[31mmxnet-model-server 0.3 requires mxnet>=1.1, which is not installed.\u001b[0m\n",
      "\u001b[31mmxnet-model-server 0.3 requires onnx-mxnet>=0.4.2, which is not installed.\u001b[0m\n",
      "Requirement already satisfied: spacy in /home/ubuntu/anaconda3/envs/mxnet_p36/lib/python3.6/site-packages (2.0.11)\n",
      "Requirement already satisfied: murmurhash<0.29,>=0.28 in /home/ubuntu/anaconda3/envs/mxnet_p36/lib/python3.6/site-packages (from spacy) (0.28.0)\n",
      "Requirement already satisfied: pathlib in /home/ubuntu/anaconda3/envs/mxnet_p36/lib/python3.6/site-packages (from spacy) (1.0.1)\n",
      "Requirement already satisfied: ujson>=1.35 in /home/ubuntu/anaconda3/envs/mxnet_p36/lib/python3.6/site-packages (from spacy) (1.35)\n",
      "Requirement already satisfied: regex==2017.4.5 in /home/ubuntu/anaconda3/envs/mxnet_p36/lib/python3.6/site-packages (from spacy) (2017.4.5)\n",
      "Requirement already satisfied: preshed<2.0.0,>=1.0.0 in /home/ubuntu/anaconda3/envs/mxnet_p36/lib/python3.6/site-packages (from spacy) (1.0.0)\n",
      "Requirement already satisfied: cymem<1.32,>=1.30 in /home/ubuntu/anaconda3/envs/mxnet_p36/lib/python3.6/site-packages (from spacy) (1.31.2)\n",
      "Requirement already satisfied: dill<0.3,>=0.2 in /home/ubuntu/anaconda3/envs/mxnet_p36/lib/python3.6/site-packages (from spacy) (0.2.8.2)\n",
      "Requirement already satisfied: thinc<6.11.0,>=6.10.1 in /home/ubuntu/anaconda3/envs/mxnet_p36/lib/python3.6/site-packages (from spacy) (6.10.2)\n",
      "Requirement already satisfied: plac<1.0.0,>=0.9.6 in /home/ubuntu/anaconda3/envs/mxnet_p36/lib/python3.6/site-packages (from spacy) (0.9.6)\n",
      "Requirement already satisfied: numpy>=1.7 in /home/ubuntu/anaconda3/envs/mxnet_p36/lib/python3.6/site-packages (from spacy) (1.13.3)\n",
      "Requirement already satisfied: termcolor in /home/ubuntu/anaconda3/envs/mxnet_p36/lib/python3.6/site-packages (from thinc<6.11.0,>=6.10.1->spacy) (1.1.0)\n",
      "Requirement already satisfied: tqdm<5.0.0,>=4.10.0 in /home/ubuntu/anaconda3/envs/mxnet_p36/lib/python3.6/site-packages (from thinc<6.11.0,>=6.10.1->spacy) (4.23.4)\n",
      "Requirement already satisfied: six<2.0.0,>=1.10.0 in /home/ubuntu/anaconda3/envs/mxnet_p36/lib/python3.6/site-packages (from thinc<6.11.0,>=6.10.1->spacy) (1.11.0)\n",
      "Requirement already satisfied: cytoolz<0.9,>=0.8 in /home/ubuntu/anaconda3/envs/mxnet_p36/lib/python3.6/site-packages (from thinc<6.11.0,>=6.10.1->spacy) (0.8.2)\n",
      "Requirement already satisfied: wrapt in /home/ubuntu/anaconda3/envs/mxnet_p36/lib/python3.6/site-packages (from thinc<6.11.0,>=6.10.1->spacy) (1.10.11)\n",
      "Requirement already satisfied: msgpack-numpy==0.4.1 in /home/ubuntu/anaconda3/envs/mxnet_p36/lib/python3.6/site-packages (from thinc<6.11.0,>=6.10.1->spacy) (0.4.1)\n",
      "Requirement already satisfied: msgpack-python in /home/ubuntu/anaconda3/envs/mxnet_p36/lib/python3.6/site-packages (from thinc<6.11.0,>=6.10.1->spacy) (0.5.6)\n",
      "Requirement already satisfied: toolz>=0.8.0 in /home/ubuntu/anaconda3/envs/mxnet_p36/lib/python3.6/site-packages (from cytoolz<0.9,>=0.8->thinc<6.11.0,>=6.10.1->spacy) (0.9.0)\n"
     ]
    },
    {
     "name": "stdout",
     "output_type": "stream",
     "text": [
      "\u001b[31mmxnet-model-server 0.3 requires fasteners, which is not installed.\u001b[0m\n",
      "\u001b[31mmxnet-model-server 0.3 requires importlib2, which is not installed.\u001b[0m\n",
      "\u001b[31mmxnet-model-server 0.3 requires mxnet>=1.1, which is not installed.\u001b[0m\n",
      "\u001b[31mmxnet-model-server 0.3 requires onnx-mxnet>=0.4.2, which is not installed.\u001b[0m\n",
      "Requirement already satisfied: seaborn in /home/ubuntu/anaconda3/envs/mxnet_p36/lib/python3.6/site-packages (0.9.0)\n",
      "Requirement already satisfied: numpy>=1.9.3 in /home/ubuntu/anaconda3/envs/mxnet_p36/lib/python3.6/site-packages (from seaborn) (1.13.3)\n",
      "Requirement already satisfied: pandas>=0.15.2 in /home/ubuntu/anaconda3/envs/mxnet_p36/lib/python3.6/site-packages (from seaborn) (0.23.0)\n",
      "Requirement already satisfied: scipy>=0.14.0 in /home/ubuntu/anaconda3/envs/mxnet_p36/lib/python3.6/site-packages (from seaborn) (1.1.0)\n",
      "Requirement already satisfied: matplotlib>=1.4.3 in /home/ubuntu/anaconda3/envs/mxnet_p36/lib/python3.6/site-packages (from seaborn) (2.2.2)\n",
      "Requirement already satisfied: python-dateutil>=2.5.0 in /home/ubuntu/anaconda3/envs/mxnet_p36/lib/python3.6/site-packages (from pandas>=0.15.2->seaborn) (2.7.3)\n",
      "Requirement already satisfied: pytz>=2011k in /home/ubuntu/anaconda3/envs/mxnet_p36/lib/python3.6/site-packages (from pandas>=0.15.2->seaborn) (2018.4)\n",
      "Requirement already satisfied: pyparsing!=2.0.4,!=2.1.2,!=2.1.6,>=2.0.1 in /home/ubuntu/anaconda3/envs/mxnet_p36/lib/python3.6/site-packages (from matplotlib>=1.4.3->seaborn) (2.2.0)\n",
      "Requirement already satisfied: six>=1.10 in /home/ubuntu/anaconda3/envs/mxnet_p36/lib/python3.6/site-packages (from matplotlib>=1.4.3->seaborn) (1.11.0)\n",
      "Requirement already satisfied: kiwisolver>=1.0.1 in /home/ubuntu/anaconda3/envs/mxnet_p36/lib/python3.6/site-packages (from matplotlib>=1.4.3->seaborn) (1.0.1)\n",
      "Requirement already satisfied: cycler>=0.10 in /home/ubuntu/anaconda3/envs/mxnet_p36/lib/python3.6/site-packages (from matplotlib>=1.4.3->seaborn) (0.10.0)\n",
      "Requirement already satisfied: setuptools in /home/ubuntu/anaconda3/envs/mxnet_p36/lib/python3.6/site-packages (from kiwisolver>=1.0.1->matplotlib>=1.4.3->seaborn) (39.1.0)\n",
      "\u001b[31mmxnet-model-server 0.3 requires fasteners, which is not installed.\u001b[0m\n",
      "\u001b[31mmxnet-model-server 0.3 requires importlib2, which is not installed.\u001b[0m\n",
      "\u001b[31mmxnet-model-server 0.3 requires mxnet>=1.1, which is not installed.\u001b[0m\n",
      "\u001b[31mmxnet-model-server 0.3 requires onnx-mxnet>=0.4.2, which is not installed.\u001b[0m\n"
     ]
    }
   ],
   "source": [
    "!pip install --pre --upgrade mxnet-cu90\n",
    "!pip install gluoncv\n",
    "!pip install gluonnlp\n",
    "!pip install spacy\n",
    "!pip install seaborn"
   ]
  },
  {
   "cell_type": "markdown",
   "metadata": {
    "slideshow": {
     "slide_type": "skip"
    }
   },
   "source": [
    "# Checking MXNet version after upgrade"
   ]
  },
  {
   "cell_type": "code",
   "execution_count": 2,
   "metadata": {
    "slideshow": {
     "slide_type": "skip"
    }
   },
   "outputs": [
    {
     "data": {
      "text/plain": [
       "'1.3.0'"
      ]
     },
     "execution_count": 2,
     "metadata": {},
     "output_type": "execute_result"
    }
   ],
   "source": [
    "import mxnet as mx\n",
    "mx.__version__"
   ]
  },
  {
   "cell_type": "markdown",
   "metadata": {
    "slideshow": {
     "slide_type": "slide"
    }
   },
   "source": [
    "# An introduction to GluonNLP "
   ]
  },
  {
   "cell_type": "markdown",
   "metadata": {
    "slideshow": {
     "slide_type": "slide"
    }
   },
   "source": [
    "## Objectives:\n",
    "- A quick introduction to GluonNLP and what it is for\n",
    "- Pre-processing IMDB dataset for a Sentiment Analysis Task\n",
    "- Training a sentiment analysis model on IMDB database"
   ]
  },
  {
   "cell_type": "markdown",
   "metadata": {
    "slideshow": {
     "slide_type": "slide"
    }
   },
   "source": [
    "# GluonNLP"
   ]
  },
  {
   "cell_type": "markdown",
   "metadata": {
    "slideshow": {
     "slide_type": "fragment"
    }
   },
   "source": [
    "GluonNLP is a toolkit that enables \n",
    "- easy text preprocessing, \n",
    "- datasets loading and \n",
    "- neural models building to help you speed up your Natural Language Processing (NLP) research."
   ]
  },
  {
   "cell_type": "markdown",
   "metadata": {
    "slideshow": {
     "slide_type": "subslide"
    }
   },
   "source": [
    "## Features\n",
    "1. Training scripts to reproduce SOTA results reported in research papers.\n",
    "2. Pre-trained models for common NLP tasks.\n",
    "3. Carefully designed APIs that greatly reduce the implementation complexity.\n",
    "4. Community support."
   ]
  },
  {
   "cell_type": "markdown",
   "metadata": {
    "slideshow": {
     "slide_type": "subslide"
    }
   },
   "source": [
    "## Installation\n",
    "`$pip install mxnet[-cu-x] --pre --upgrade --user`\n",
    "\n",
    "`$pip install gluonnlp --pre --upgrade --user`\n",
    "\n"
   ]
  },
  {
   "cell_type": "markdown",
   "metadata": {
    "slideshow": {
     "slide_type": "slide"
    }
   },
   "source": [
    "# Import statemetns"
   ]
  },
  {
   "cell_type": "code",
   "execution_count": 2,
   "metadata": {
    "slideshow": {
     "slide_type": "fragment"
    }
   },
   "outputs": [],
   "source": [
    "from mxnet import gluon\n",
    "import gluonnlp as nlp\n",
    "import time\n",
    "import multiprocessing as mp\n",
    "import itertools\n",
    "import numpy as np\n",
    "import pandas as pd\n",
    "import seaborn as sns\n",
    "import matplotlib.pyplot as plt\n",
    "from scipy import stats"
   ]
  },
  {
   "cell_type": "markdown",
   "metadata": {
    "slideshow": {
     "slide_type": "slide"
    }
   },
   "source": [
    "# Downloading IMDB Data Set & Instansiating SimpleDataSet Objects"
   ]
  },
  {
   "cell_type": "markdown",
   "metadata": {
    "slideshow": {
     "slide_type": "fragment"
    }
   },
   "source": [
    "- IMDB dataset includes 50000 movie reviews.\n",
    "- the split between positive and negative is 50/50\n",
    "- Any score $\\geq 7$ is considered positive\n",
    "- Any score $\\leq 4$ is considered negative\n",
    "- the dataset has removed all reviews with scrored in [5,6]"
   ]
  },
  {
   "cell_type": "code",
   "execution_count": 3,
   "metadata": {
    "slideshow": {
     "slide_type": "subslide"
    }
   },
   "outputs": [
    {
     "name": "stdout",
     "output_type": "stream",
     "text": [
      "This one is tough to watch -- as an earlier reviewer says. That is amazing considering the terrible films that came out right after WWII -- particularly the \"liberation\" of Dachau. I\n",
      "SENTIMENT_SCORE: [8]\n",
      "'\n",
      "The first and second seasons started off shakily, with good episodes sandwiched in between average ones, and at times resorting to clichéd \n",
      "SENTIMENT_SCORE: [10]\n",
      "'\n",
      "In Manhattan, the American middle class Jim Blandings (Cary Grant) lives with his wife Muriel (Myrna Loy) and two teenage daughters in a four bedr\n",
      "SENTIMENT_SCORE: [8]\n",
      "'\n",
      "A friend of mine recommended this movie, citing my vocal and inflective similarities with Des Howl, the movie's main character. I guess to an extent I can see that and p\n",
      "SENTIMENT_SCORE: [8]\n",
      "'\n",
      "Actually my vote is a 7.5. Anyway, the movie was good, it has those funny parts that make it deserve to see it, don't misunderstand me, is not the funniest movie of the world, and its \n",
      "SENTIMENT_SCORE: [7]\n",
      "'\n"
     ]
    }
   ],
   "source": [
    "from numpy.random import randint\n",
    "train_dataset = nlp.data.IMDB(segment='train', root='../data/')\n",
    "test_dataset = nlp.data.IMDB(segment='test', root='../data/')\n",
    "for i in range(5):\n",
    "    k = randint(1, 2000)\n",
    "    print(train_dataset[k][0][:randint(200)])\n",
    "    print(\"SENTIMENT_SCORE: [{}]\\n'\".format(train_dataset[k][1]))"
   ]
  },
  {
   "cell_type": "markdown",
   "metadata": {
    "slideshow": {
     "slide_type": "slide"
    }
   },
   "source": [
    "# SimpleDataset Class Hierarchy"
   ]
  },
  {
   "cell_type": "code",
   "execution_count": 4,
   "metadata": {
    "slideshow": {
     "slide_type": "fragment"
    }
   },
   "outputs": [
    {
     "name": "stdout",
     "output_type": "stream",
     "text": [
      "(<class 'mxnet.gluon.data.dataset.SimpleDataset'>,)\n",
      "(<class 'mxnet.gluon.data.dataset.Dataset'>,)\n"
     ]
    }
   ],
   "source": [
    "print(nlp.data.IMDB.__bases__)\n",
    "print(gluon.data.SimpleDataset.__bases__)"
   ]
  },
  {
   "cell_type": "markdown",
   "metadata": {
    "slideshow": {
     "slide_type": "slide"
    }
   },
   "source": [
    "\n",
    "# Setting Max Seq Length & Defining Tokenizer"
   ]
  },
  {
   "cell_type": "code",
   "execution_count": 5,
   "metadata": {
    "slideshow": {
     "slide_type": "fragment"
    }
   },
   "outputs": [],
   "source": [
    "length_clip = nlp.data.ClipSequence(500)\n",
    "tokenizer = nlp.data.SpacyTokenizer('en')"
   ]
  },
  {
   "cell_type": "markdown",
   "metadata": {
    "slideshow": {
     "slide_type": "slide"
    }
   },
   "source": [
    "# Pre-processing Data"
   ]
  },
  {
   "cell_type": "markdown",
   "metadata": {
    "slideshow": {
     "slide_type": "fragment"
    }
   },
   "source": [
    "- `preprocess(x)` \n",
    " - normalized label to 1 for positive and 0 for negative\n",
    " - tokenized data\n",
    " - clips the length\n",
    " - returns tokenized data and label"
   ]
  },
  {
   "cell_type": "markdown",
   "metadata": {
    "slideshow": {
     "slide_type": "fragment"
    }
   },
   "source": [
    "- `preprocess_dataset` uses paralele processing using maximum number of CPUs to\n",
    " - run `preprocess`, and\n",
    " - calculate length of each sentence"
   ]
  },
  {
   "cell_type": "code",
   "execution_count": 6,
   "metadata": {
    "slideshow": {
     "slide_type": "subslide"
    }
   },
   "outputs": [
    {
     "name": "stdout",
     "output_type": "stream",
     "text": [
      "Done! Tokenizing Time=4.84s, #Sentences=25000\n",
      "Done! Tokenizing Time=5.04s, #Sentences=25000\n"
     ]
    }
   ],
   "source": [
    "# Dataset preprocessing\n",
    "def preprocess(x):\n",
    "    data = x[0]\n",
    "    label = x[1]\n",
    "    label = int(label > 5)\n",
    "    data = length_clip(tokenizer(data))\n",
    "    return data, label\n",
    "\n",
    "def get_length(x):\n",
    "    return float(len(x[0]))\n",
    "\n",
    "def preprocess_dataset(dataset):\n",
    "    start = time.time()\n",
    "    pool = mp.Pool()\n",
    "    dataset = gluon.data.SimpleDataset(pool.map(preprocess, dataset))\n",
    "    lengths = gluon.data.SimpleDataset(pool.map(get_length, dataset))\n",
    "    end = time.time()\n",
    "    print('Done! Tokenizing Time={:.2f}s, #Sentences={}'.format(end - start, len(dataset)))\n",
    "    return dataset, lengths\n",
    "\n",
    "# Preprocess the dataset\n",
    "train_dataset, train_data_lengths = preprocess_dataset(train_dataset)\n",
    "test_dataset, test_data_lengths = preprocess_dataset(test_dataset)\n",
    "\n"
   ]
  },
  {
   "cell_type": "markdown",
   "metadata": {
    "slideshow": {
     "slide_type": "slide"
    }
   },
   "source": [
    "# Creating Vocabulary"
   ]
  },
  {
   "cell_type": "code",
   "execution_count": 7,
   "metadata": {
    "slideshow": {
     "slide_type": "fragment"
    }
   },
   "outputs": [
    {
     "data": {
      "text/plain": [
       "['Bromwell',\n",
       " 'High',\n",
       " 'is',\n",
       " 'a',\n",
       " 'cartoon',\n",
       " 'comedy',\n",
       " '.',\n",
       " 'It',\n",
       " 'ran',\n",
       " 'at',\n",
       " 'the',\n",
       " 'same',\n",
       " 'time',\n",
       " 'as',\n",
       " 'some',\n",
       " 'other',\n",
       " 'programs',\n",
       " 'about',\n",
       " 'school',\n",
       " 'life',\n",
       " ',',\n",
       " 'such',\n",
       " 'as',\n",
       " '\"',\n",
       " 'Teachers',\n",
       " '\"',\n",
       " '.',\n",
       " 'My',\n",
       " '35',\n",
       " 'years',\n",
       " 'in',\n",
       " 'the',\n",
       " 'teaching',\n",
       " 'profession',\n",
       " 'lead',\n",
       " 'me',\n",
       " 'to',\n",
       " 'believe',\n",
       " 'that',\n",
       " 'Bromwell',\n",
       " 'High',\n",
       " \"'s\",\n",
       " 'satire',\n",
       " 'is',\n",
       " 'much',\n",
       " 'closer',\n",
       " 'to',\n",
       " 'reality',\n",
       " 'than',\n",
       " 'is',\n",
       " '\"',\n",
       " 'Teachers',\n",
       " '\"',\n",
       " '.',\n",
       " 'The',\n",
       " 'scramble',\n",
       " 'to',\n",
       " 'survive',\n",
       " 'financially',\n",
       " ',',\n",
       " 'the',\n",
       " 'insightful',\n",
       " 'students',\n",
       " 'who',\n",
       " 'can',\n",
       " 'see',\n",
       " 'right',\n",
       " 'through',\n",
       " 'their',\n",
       " 'pathetic',\n",
       " 'teachers',\n",
       " \"'\",\n",
       " 'pomp',\n",
       " ',',\n",
       " 'the',\n",
       " 'pettiness',\n",
       " 'of',\n",
       " 'the',\n",
       " 'whole',\n",
       " 'situation',\n",
       " ',',\n",
       " 'all',\n",
       " 'remind',\n",
       " 'me',\n",
       " 'of',\n",
       " 'the',\n",
       " 'schools',\n",
       " 'I',\n",
       " 'knew',\n",
       " 'and',\n",
       " 'their',\n",
       " 'students',\n",
       " '.',\n",
       " 'When',\n",
       " 'I',\n",
       " 'saw',\n",
       " 'the',\n",
       " 'episode',\n",
       " 'in',\n",
       " 'which',\n",
       " 'a',\n",
       " 'student',\n",
       " 'repeatedly',\n",
       " 'tried',\n",
       " 'to',\n",
       " 'burn',\n",
       " 'down',\n",
       " 'the',\n",
       " 'school',\n",
       " ',',\n",
       " 'I',\n",
       " 'immediately',\n",
       " 'recalled',\n",
       " '.........',\n",
       " 'at',\n",
       " '..........',\n",
       " 'High',\n",
       " '.',\n",
       " 'A',\n",
       " 'classic',\n",
       " 'line',\n",
       " ':',\n",
       " 'INSPECTOR',\n",
       " ':',\n",
       " 'I',\n",
       " \"'m\",\n",
       " 'here',\n",
       " 'to',\n",
       " 'sack',\n",
       " 'one',\n",
       " 'of',\n",
       " 'your',\n",
       " 'teachers',\n",
       " '.',\n",
       " 'STUDENT',\n",
       " ':',\n",
       " 'Welcome',\n",
       " 'to',\n",
       " 'Bromwell',\n",
       " 'High',\n",
       " '.',\n",
       " 'I',\n",
       " 'expect',\n",
       " 'that',\n",
       " 'many',\n",
       " 'adults',\n",
       " 'of',\n",
       " 'my',\n",
       " 'age',\n",
       " 'think',\n",
       " 'that',\n",
       " 'Bromwell',\n",
       " 'High',\n",
       " 'is',\n",
       " 'far',\n",
       " 'fetched',\n",
       " '.',\n",
       " 'What',\n",
       " 'a',\n",
       " 'pity',\n",
       " 'that',\n",
       " 'it',\n",
       " 'is',\n",
       " \"n't\",\n",
       " '!']"
      ]
     },
     "execution_count": 7,
     "metadata": {},
     "output_type": "execute_result"
    }
   ],
   "source": [
    "train_seqs = [sample[0] for sample in train_dataset]\n",
    "counter = nlp.data.count_tokens(list(itertools.chain.from_iterable(train_seqs)))\n",
    "vocab = nlp.Vocab(counter=counter, max_size=10000, padding_token=None, eos_token=None, bos_token=None)\n",
    "train_seqs[0]\n"
   ]
  },
  {
   "cell_type": "code",
   "execution_count": 8,
   "metadata": {},
   "outputs": [
    {
     "data": {
      "text/plain": [
       "[0,\n",
       " 2012,\n",
       " 8,\n",
       " 4,\n",
       " 1116,\n",
       " 231,\n",
       " 3,\n",
       " 51,\n",
       " 2311,\n",
       " 40,\n",
       " 1,\n",
       " 188,\n",
       " 67,\n",
       " 20,\n",
       " 59,\n",
       " 97,\n",
       " 6190,\n",
       " 49,\n",
       " 422,\n",
       " 133,\n",
       " 2,\n",
       " 160,\n",
       " 20,\n",
       " 13,\n",
       " 0,\n",
       " 13,\n",
       " 3,\n",
       " 374,\n",
       " 5063,\n",
       " 174,\n",
       " 9,\n",
       " 1,\n",
       " 5390,\n",
       " 6674,\n",
       " 498,\n",
       " 83,\n",
       " 7,\n",
       " 282,\n",
       " 12,\n",
       " 0,\n",
       " 2012,\n",
       " 15,\n",
       " 2042,\n",
       " 8,\n",
       " 88,\n",
       " 2661,\n",
       " 7,\n",
       " 714,\n",
       " 87,\n",
       " 8,\n",
       " 13,\n",
       " 0,\n",
       " 13,\n",
       " 3,\n",
       " 24,\n",
       " 0,\n",
       " 7,\n",
       " 2149,\n",
       " 0,\n",
       " 2,\n",
       " 1,\n",
       " 6661,\n",
       " 1519,\n",
       " 43,\n",
       " 68,\n",
       " 78,\n",
       " 234,\n",
       " 163,\n",
       " 79,\n",
       " 1286,\n",
       " 5847,\n",
       " 53,\n",
       " 0,\n",
       " 2,\n",
       " 1,\n",
       " 0,\n",
       " 6,\n",
       " 1,\n",
       " 241,\n",
       " 959,\n",
       " 2,\n",
       " 41,\n",
       " 3276,\n",
       " 83,\n",
       " 6,\n",
       " 1,\n",
       " 6964,\n",
       " 10,\n",
       " 689,\n",
       " 5,\n",
       " 79,\n",
       " 1519,\n",
       " 3,\n",
       " 312,\n",
       " 10,\n",
       " 220,\n",
       " 1,\n",
       " 412,\n",
       " 9,\n",
       " 73,\n",
       " 4,\n",
       " 1464,\n",
       " 3900,\n",
       " 836,\n",
       " 7,\n",
       " 3936,\n",
       " 212,\n",
       " 1,\n",
       " 422,\n",
       " 2,\n",
       " 10,\n",
       " 1304,\n",
       " 0,\n",
       " 0,\n",
       " 40,\n",
       " 0,\n",
       " 2012,\n",
       " 3,\n",
       " 145,\n",
       " 381,\n",
       " 384,\n",
       " 90,\n",
       " 0,\n",
       " 90,\n",
       " 10,\n",
       " 169,\n",
       " 162,\n",
       " 7,\n",
       " 9373,\n",
       " 36,\n",
       " 6,\n",
       " 148,\n",
       " 5847,\n",
       " 3,\n",
       " 0,\n",
       " 90,\n",
       " 9491,\n",
       " 7,\n",
       " 0,\n",
       " 2012,\n",
       " 3,\n",
       " 10,\n",
       " 561,\n",
       " 12,\n",
       " 130,\n",
       " 1528,\n",
       " 6,\n",
       " 82,\n",
       " 641,\n",
       " 118,\n",
       " 12,\n",
       " 0,\n",
       " 2012,\n",
       " 8,\n",
       " 259,\n",
       " 4345,\n",
       " 3,\n",
       " 257,\n",
       " 4,\n",
       " 2546,\n",
       " 12,\n",
       " 11,\n",
       " 8,\n",
       " 29,\n",
       " 38]"
      ]
     },
     "execution_count": 8,
     "metadata": {},
     "output_type": "execute_result"
    }
   ],
   "source": [
    "vocab[train_dataset[0][0]]"
   ]
  },
  {
   "cell_type": "markdown",
   "metadata": {
    "slideshow": {
     "slide_type": "slide"
    }
   },
   "source": [
    "# Vectorizing Data"
   ]
  },
  {
   "cell_type": "code",
   "execution_count": 9,
   "metadata": {
    "slideshow": {
     "slide_type": "fragment"
    }
   },
   "outputs": [],
   "source": [
    "def t2i(x):\n",
    "    return vocab[x[0]], x[1]\n",
    "\n",
    "pool = mp.Pool()\n",
    "train_dataset = pool.map(t2i, train_dataset)\n",
    "test_dataset = pool.map(t2i, test_dataset)\n",
    "pool.close()"
   ]
  },
  {
   "cell_type": "code",
   "execution_count": 10,
   "metadata": {
    "slideshow": {
     "slide_type": "fragment"
    }
   },
   "outputs": [
    {
     "name": "stdout",
     "output_type": "stream",
     "text": [
      "[0, 2012, 8, 4, 1116, 231, 3, 51, 2311, 40, 1, 188, 67, 20, 59, 97, 6190, 49, 422, 133, 2, 160, 20, 13, 0, 13, 3, 374, 5063, 174, 9, 1, 5390, 6674, 498, 83, 7, 282, 12, 0, 2012, 15, 2042, 8, 88, 2661, 7, 714, 87, 8, 13, 0, 13, 3, 24, 0, 7, 2149, 0, 2, 1, 6661, 1519, 43, 68, 78, 234, 163, 79, 1286, 5847, 53, 0, 2, 1, 0, 6, 1, 241, 959, 2, 41, 3276, 83, 6, 1, 6964, 10, 689, 5, 79, 1519, 3, 312, 10, 220, 1, 412, 9, 73, 4, 1464, 3900, 836, 7, 3936, 212, 1, 422, 2, 10, 1304, 0, 0, 40, 0, 2012, 3, 145, 381, 384, 90, 0, 90, 10, 169, 162, 7, 9373, 36, 6, 148, 5847, 3, 0, 90, 9491, 7, 0, 2012, 3, 10, 561, 12, 130, 1528, 6, 82, 641, 118, 12, 0, 2012, 8, 259, 4345, 3, 257, 4, 2546, 12, 11, 8, 29, 38]\n"
     ]
    }
   ],
   "source": [
    "\n",
    "print(train_dataset[0][0][:200])"
   ]
  },
  {
   "cell_type": "markdown",
   "metadata": {
    "slideshow": {
     "slide_type": "slide"
    }
   },
   "source": [
    "# Creating DataLoader"
   ]
  },
  {
   "cell_type": "code",
   "execution_count": 11,
   "metadata": {
    "slideshow": {
     "slide_type": "fragment"
    }
   },
   "outputs": [],
   "source": [
    "batch_size = 100\n",
    "train_data_loader = gluon.data.DataLoader(dataset=train_dataset,\n",
    "                                          shuffle=True, \n",
    "                                          batch_size=batch_size, \n",
    "                                          last_batch='rollover')\n",
    "test_data_loader = gluon.data.DataLoader(dataset=test_dataset, \n",
    "                                         shuffle=False,\n",
    "                                         batch_size=batch_size, \n",
    "                                         last_batch='rollover')\n"
   ]
  },
  {
   "cell_type": "markdown",
   "metadata": {
    "slideshow": {
     "slide_type": "slide"
    }
   },
   "source": [
    "# Distribution of Data"
   ]
  },
  {
   "cell_type": "code",
   "execution_count": 12,
   "metadata": {
    "slideshow": {
     "slide_type": "fragment"
    }
   },
   "outputs": [
    {
     "name": "stdout",
     "output_type": "stream",
     "text": [
      "Aerage Sentence Length: 246.4104;\n",
      "Stentence Length Standard Diviation: 133.41041777852283\n"
     ]
    },
    {
     "data": {
      "image/png": "[encoded data removed]",
      "text/plain": [
       "<Figure size 432x288 with 1 Axes>"
      ]
     },
     "metadata": {},
     "output_type": "display_data"
    }
   ],
   "source": [
    "sns.set(color_codes=True)\n",
    "sns.distplot(train_data_lengths[:], bins=20, hist=True, rug=False)\n",
    "print(\"Aerage Sentence Length: {};\\nStentence Length Standard Diviation: {}\".format(np.average(train_data_lengths[:]),\n",
    "                                                                                 np.std(train_data_lengths[:])\n",
    "                                                                                 ))\n",
    "                                                                                "
   ]
  },
  {
   "cell_type": "markdown",
   "metadata": {
    "slideshow": {
     "slide_type": "slide"
    }
   },
   "source": [
    "# Batchify\n",
    "- A  we need to have fixed size sequence lenght, we attempt to batchify data sequences so that:\n",
    " - Eequence lenghts are equal\n",
    " - Empty spaces are padded "
   ]
  },
  {
   "cell_type": "code",
   "execution_count": 18,
   "metadata": {
    "slideshow": {
     "slide_type": "fragment"
    }
   },
   "outputs": [],
   "source": [
    "from gluonnlp.data import batchify as bf\n",
    "batcify_fn = bf.Tuple(bf.Pad(axis=0), bf.Stack())"
   ]
  },
  {
   "cell_type": "code",
   "execution_count": 19,
   "metadata": {
    "slideshow": {
     "slide_type": "fragment"
    }
   },
   "outputs": [
    {
     "data": {
      "text/plain": [
       "(\n",
       " [[ 1  2  3  0  0  0  0  0]\n",
       "  [ 4  5  0  0  0  0  0  0]\n",
       "  [ 6  7  8  9 10 11 12 13]]\n",
       " <NDArray 3x8 @cpu_shared(0)>, \n",
       " [0 1 1]\n",
       " <NDArray 3 @cpu_shared(0)>)"
      ]
     },
     "execution_count": 19,
     "metadata": {},
     "output_type": "execute_result"
    }
   ],
   "source": [
    "a = ([1,2,3], 0)\n",
    "b = ([4,5], 1)\n",
    "c = ([6,7,8,9,10,11,12,13], 1)\n",
    "batcify_fn([a,b,c])"
   ]
  },
  {
   "cell_type": "markdown",
   "metadata": {
    "slideshow": {
     "slide_type": "slide"
    }
   },
   "source": [
    "# Bucketing\n",
    "- The naive solution is to pad all sentences to maximum sequence lenght.\n",
    "- From the distribution diagram we can remember that majority of the sentence length were about 150-250 in lenght\n",
    "- Padding all sentences to 500 is massively inefficinet.\n",
    "- We solve this problem through buckeitng by creating classes of buckets of fixed length.\n",
    " - For example we can put sentences of length under 50 in one bucket, 50-100 in a second bucket, ... "
   ]
  },
  {
   "cell_type": "code",
   "execution_count": 15,
   "metadata": {
    "slideshow": {
     "slide_type": "fragment"
    }
   },
   "outputs": [
    {
     "name": "stdout",
     "output_type": "stream",
     "text": [
      "FixedBucketSampler:\n",
      "  sample_num=25000, batch_num=261\n",
      "  key=[44, 68, 92, 116, 140, 164, 188, 212, 236, 260, 284, 308, 332, 356, 380, 404, 428, 452, 476, 500]\n",
      "  cnt=[139, 842, 955, 1003, 2278, 3408, 2585, 2029, 1559, 1254, 1075, 925, 766, 645, 605, 524, 468, 376, 354, 3210]\n",
      "  batch_size=[100, 100, 100, 100, 100, 100, 100, 100, 100, 100, 100, 100, 100, 100, 100, 100, 100, 100, 100, 100]\n"
     ]
    }
   ],
   "source": [
    "batch_sampler = nlp.data.sampler.FixedBucketSampler(train_data_lengths, \n",
    "                                                    batch_size=100, \n",
    "                                                    num_buckets=20, \n",
    "                                                    shuffle=True)\n",
    "print(batch_sampler.stats())"
   ]
  },
  {
   "cell_type": "markdown",
   "metadata": {
    "slideshow": {
     "slide_type": "slide"
    }
   },
   "source": [
    "# Redefining `train_data_loader`"
   ]
  },
  {
   "cell_type": "code",
   "execution_count": 16,
   "metadata": {
    "slideshow": {
     "slide_type": "fragment"
    }
   },
   "outputs": [],
   "source": [
    "train_data_loader = gluon.data.DataLoader(train_dataset, batch_sampler=batch_sampler, batchify_fn=batcify_fn)"
   ]
  },
  {
   "cell_type": "markdown",
   "metadata": {
    "slideshow": {
     "slide_type": "slide"
    }
   },
   "source": [
    "# Scaling Batch Sizes\n",
    "- Fot futher efficiency we can scale the batches, so smaller buckets will have larget batch sizes.\n",
    "- This is achieved through ratio. $ratio \\geq 0$ scales up batch sizes."
   ]
  },
  {
   "cell_type": "code",
   "execution_count": 20,
   "metadata": {
    "slideshow": {
     "slide_type": "fragment"
    }
   },
   "outputs": [
    {
     "name": "stdout",
     "output_type": "stream",
     "text": [
      "FixedBucketSampler:\n",
      "  sample_num=25000, batch_num=210\n",
      "  key=[44, 68, 92, 116, 140, 164, 188, 212, 236, 260, 284, 308, 332, 356, 380, 404, 428, 452, 476, 500]\n",
      "  cnt=[139, 842, 955, 1003, 2278, 3408, 2585, 2029, 1559, 1254, 1075, 925, 766, 645, 605, 524, 468, 376, 354, 3210]\n",
      "  batch_size=[568, 367, 271, 215, 178, 152, 132, 117, 105, 100, 100, 100, 100, 100, 100, 100, 100, 100, 100, 100]\n"
     ]
    }
   ],
   "source": [
    "batch_sampler = nlp.data.sampler.FixedBucketSampler(train_data_lengths, \n",
    "                                                    batch_size=100, \n",
    "                                                    num_buckets=20, \n",
    "                                                    shuffle=True,\n",
    "                                                    ratio=.5)\n",
    "print(batch_sampler.stats())"
   ]
  },
  {
   "cell_type": "markdown",
   "metadata": {
    "slideshow": {
     "slide_type": "slide"
    }
   },
   "source": [
    "# Redefining `train_data_loader`"
   ]
  },
  {
   "cell_type": "code",
   "execution_count": 21,
   "metadata": {
    "slideshow": {
     "slide_type": "fragment"
    }
   },
   "outputs": [],
   "source": [
    "train_data_loader = gluon.data.DataLoader(train_dataset, \n",
    "                                          batch_sampler=batch_sampler, \n",
    "                                          batchify_fn=batcify_fn)\n",
    "test_data_loader = gluon.data.DataLoader(test_dataset, \n",
    "                                         batch_sampler=batch_sampler, \n",
    "                                         batchify_fn=batcify_fn, \n",
    "                                         shuffle=False)"
   ]
  },
  {
   "cell_type": "markdown",
   "metadata": {
    "slideshow": {
     "slide_type": "slide"
    }
   },
   "source": [
    "# Recap"
   ]
  },
  {
   "cell_type": "markdown",
   "metadata": {
    "slideshow": {
     "slide_type": "fragment"
    }
   },
   "source": [
    "1. Loading the data using `gluon.nlp.data.IMDB`: This returns a `gluon.data.Dataset.SimpleDataSet` object\n",
    "2. Creating a padding strategy using `batchify_fn` in order to create a tensor of fixed length that can be used in tensor operations.\n",
    "3. Creating a bucketing strategy in order to reduce inefficient padding using `lp.data.sampler.FixedBucketSampler`\n",
    "4. creating data iterators for training using `batch_sampler` and `batchify_fn`"
   ]
  },
  {
   "cell_type": "markdown",
   "metadata": {
    "slideshow": {
     "slide_type": "slide"
    }
   },
   "source": [
    "# We are now ready to build a model\n",
    "[Next: Sentiment Analysis](SentimentAnalysis.ipynb)"
   ]
  },
  {
   "cell_type": "code",
   "execution_count": null,
   "metadata": {
    "slideshow": {
     "slide_type": "skip"
    }
   },
   "outputs": [],
   "source": []
  }
 ],
 "metadata": {
  "celltoolbar": "Slideshow",
  "kernelspec": {
   "display_name": "Environment (conda_mxnet_p36)",
   "language": "python",
   "name": "conda_mxnet_p36"
  },
  "language_info": {
   "codemirror_mode": {
    "name": "ipython",
    "version": 3
   },
   "file_extension": ".py",
   "mimetype": "text/x-python",
   "name": "python",
   "nbconvert_exporter": "python",
   "pygments_lexer": "ipython3",
   "version": "3.6.4"
  }
 },
 "nbformat": 4,
 "nbformat_minor": 2
}
